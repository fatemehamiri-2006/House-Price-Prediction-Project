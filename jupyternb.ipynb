import pandas as pd
import sklearn as sklearn
import matplotlib.pyplot as plt 
import seaborn as sns
import openpyxl

df = pd.read_csv(r"K:\house-prices-advanced-regression-techniques\train.csv")
print(df)

df.isna()
df.info()
df.describe()
df.isnull.sum().sum()


df['Alley'] = df['Alley'].fillna('no_data')
df['MasVnrType'] = df['MasVnrType'].fillna('no_data')
df['BsmtQual'] = df['BsmtQual'].fillna('no_data')
df['BsmtCond'] = df['BsmtCond'].fillna('no_data')
df['BsmtExposure'] = df['BsmtExposure'].fillna('no_data')
df['BsmtFinType1'] = df['BsmtFinType1'].fillna('no_data')
df['BsmtFinType2'] = df['BsmtFinType2'].fillna('no_data')
df['Electrical'] = df['Electrical'].fillna('no_data')
df['FireplaceQu'] = df['FireplaceQu'].fillna('no_data')
df['GarageType'] = df['GarageType'].fillna('no_data')
df['GarageFinish'] = df['GarageFinish'].fillna('no_data')
df['PoolQC'] = df['PoolQC'].fillna('no_data')
df['Fence'] = df['Fence'].fillna('no_data')
df['MiscFeature'] = df['MiscFeature'].fillna('no_data')
df['GarageQual'] = df['GarageQual'].fillna('no_data')
df['GarageCond'] = df['GarageCond'].fillna('no_data')
df['LotFrontage'] = df['LotFrontage'].fillna(df['LotFrontage'].median())
df['MasVnrArea'] = df['MasVnrArea'].fillna(df['MasVnrArea'].median())
df['GarageYrBlt'] = df['GarageYrBlt'].fillna(df['GarageYrBlt'].median())

df = pd.get_dummies(df)
from sklearn.model_selection import train_test_split
Y = df['SalePrice']
X = df.drop('SalePrice', axis=1)
X_train, X_test , Y_train , Y_test = train_test_split(X,Y,test_size=0.3, random_state=30)

from sklearn.linear_model import LinearRegression

model = LinearRegression()
model.fit(X_train,Y_train)
Y_prd= model.predict(X_test)

from sklearn.metrics import r2_score
r2_score(Y_test,Y_prd)
model.predict([X.iloc[0]])

plt.figure(figsize=(8,6))
plt.scatter(Y_test, Y_prd)
plt.xlabel("Actual Prices")
plt.ylabel("Predicted Prices")
plt.title("Actual vs Predicted Prices")
plt.show()

residuals = Y_test - Y_prd
sns.histplot(residuals, kde=True)
plt.title("Distribution of Errors")
plt.show()

output = X_test.copy()
output['PredictedPrice'] = Y_test
output['ActualPrice'] = Y_test.values

output.to_excel("HousePrice_Predictions.xlsx")
print(output.head())
